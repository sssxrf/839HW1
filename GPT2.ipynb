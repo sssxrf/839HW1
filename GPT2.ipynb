{
 "cells": [
  {
   "cell_type": "markdown",
   "id": "adc6e62c",
   "metadata": {},
   "source": [
    "### Model Import"
   ]
  },
  {
   "cell_type": "code",
   "execution_count": 34,
   "id": "95174f37",
   "metadata": {},
   "outputs": [
    {
     "name": "stderr",
     "output_type": "stream",
     "text": [
      "e:\\UWMadisonCourses\\2025Fall\\CS839\\HW1\\839HW1\\myEnv\\Lib\\site-packages\\huggingface_hub\\file_download.py:143: UserWarning: `huggingface_hub` cache-system uses symlinks by default to efficiently store duplicated files but your machine does not support them in C:\\Users\\12549\\.cache\\huggingface\\hub\\models--gpt2-XL. Caching files will still work but in a degraded version that might require more space on your disk. This warning can be disabled by setting the `HF_HUB_DISABLE_SYMLINKS_WARNING` environment variable. For more details, see https://huggingface.co/docs/huggingface_hub/how-to-cache#limitations.\n",
      "To support symlinks on Windows, you either need to activate Developer Mode or to run Python as an administrator. In order to activate developer mode, see this article: https://docs.microsoft.com/en-us/windows/apps/get-started/enable-your-device-for-development\n",
      "  warnings.warn(message)\n",
      "Xet Storage is enabled for this repo, but the 'hf_xet' package is not installed. Falling back to regular HTTP download. For better performance, install the package with: `pip install huggingface_hub[hf_xet]` or `pip install hf_xet`\n",
      "Xet Storage is enabled for this repo, but the 'hf_xet' package is not installed. Falling back to regular HTTP download. For better performance, install the package with: `pip install huggingface_hub[hf_xet]` or `pip install hf_xet`\n"
     ]
    }
   ],
   "source": [
    "from transformers import GPT2Model\n",
    "# model = GPT2Model.from_pretrained('gpt2')\n",
    "# model = GPT2Model.from_pretrained('gpt2-medium')\n",
    "# model = GPT2Model.from_pretrained('gpt2-large')\n",
    "model = GPT2Model.from_pretrained('gpt2-XL')"
   ]
  },
  {
   "cell_type": "markdown",
   "id": "d2a578a7",
   "metadata": {},
   "source": [
    "### Parameter Checks"
   ]
  },
  {
   "cell_type": "code",
   "execution_count": 35,
   "id": "18a8c2ee",
   "metadata": {},
   "outputs": [
    {
     "name": "stdout",
     "output_type": "stream",
     "text": [
      "GPT2Model(\n",
      "  (wte): Embedding(50257, 1600)\n",
      "  (wpe): Embedding(1024, 1600)\n",
      "  (drop): Dropout(p=0.1, inplace=False)\n",
      "  (h): ModuleList(\n",
      "    (0-47): 48 x GPT2Block(\n",
      "      (ln_1): LayerNorm((1600,), eps=1e-05, elementwise_affine=True)\n",
      "      (attn): GPT2Attention(\n",
      "        (c_attn): Conv1D(nf=4800, nx=1600)\n",
      "        (c_proj): Conv1D(nf=1600, nx=1600)\n",
      "        (attn_dropout): Dropout(p=0.1, inplace=False)\n",
      "        (resid_dropout): Dropout(p=0.1, inplace=False)\n",
      "      )\n",
      "      (ln_2): LayerNorm((1600,), eps=1e-05, elementwise_affine=True)\n",
      "      (mlp): GPT2MLP(\n",
      "        (c_fc): Conv1D(nf=6400, nx=1600)\n",
      "        (c_proj): Conv1D(nf=1600, nx=6400)\n",
      "        (act): NewGELUActivation()\n",
      "        (dropout): Dropout(p=0.1, inplace=False)\n",
      "      )\n",
      "    )\n",
      "  )\n",
      "  (ln_f): LayerNorm((1600,), eps=1e-05, elementwise_affine=True)\n",
      ")\n",
      "Total # of params: 1557.61M\n"
     ]
    }
   ],
   "source": [
    "def count_params(model, is_human: bool = False):\n",
    "    params: int = sum(p.numel() for p in model.parameters() if p.requires_grad)\n",
    "    return f\"{params / 1e6:.2f}M\" if is_human else params\n",
    "\n",
    "print(model)\n",
    "print(\"Total # of params:\", count_params(model, is_human=True))"
   ]
  },
  {
   "cell_type": "markdown",
   "id": "72a2d73c",
   "metadata": {},
   "source": [
    "### Layer "
   ]
  },
  {
   "cell_type": "markdown",
   "id": "cf474dfd",
   "metadata": {},
   "source": [
    "#### Embedding Layers"
   ]
  },
  {
   "cell_type": "code",
   "execution_count": 36,
   "id": "104d8c5c",
   "metadata": {},
   "outputs": [
    {
     "name": "stdout",
     "output_type": "stream",
     "text": [
      "wte | Expected: 80411200\n",
      "wte | True:     80411200\n",
      "wpe | Expected: 1638400\n",
      "wpe | True:     1638400\n"
     ]
    }
   ],
   "source": [
    "V: int = model.config.vocab_size\n",
    "E: int = model.config.n_embd\n",
    "P: int = model.config.n_positions\n",
    "expected_wte = V * E\n",
    "expected_wpe: int = P * E\n",
    "print(f\"wte | Expected: {expected_wte}\")\n",
    "print(f\"wte | True:     {count_params(model._modules['wte'])}\")\n",
    "print(f\"wpe | Expected: {expected_wpe}\")\n",
    "print(f\"wpe | True:     {count_params(model._modules['wpe'])}\")"
   ]
  },
  {
   "cell_type": "markdown",
   "id": "a7b43de0",
   "metadata": {},
   "source": [
    "#### Transformer Layers"
   ]
  },
  {
   "cell_type": "code",
   "execution_count": 37,
   "id": "3b890e92",
   "metadata": {},
   "outputs": [
    {
     "name": "stdout",
     "output_type": "stream",
     "text": [
      "ln_1 | Expected: 3200\n",
      "ln_1 | True:     3200\n"
     ]
    }
   ],
   "source": [
    "expected_ln_1 = 2 * E\n",
    "print(f\"ln_1 | Expected: {expected_ln_1}\")\n",
    "print(f\"ln_1 | True:     {count_params(model._modules['h'][0].ln_1)}\")"
   ]
  },
  {
   "cell_type": "code",
   "execution_count": 38,
   "id": "7cc91d22",
   "metadata": {},
   "outputs": [
    {
     "name": "stdout",
     "output_type": "stream",
     "text": [
      "c_attn | Expected: 7684800\n",
      "c_attn | True:     7684800\n",
      "c_proj | Expected: 2561600\n",
      "c_proj | True:     2561600\n",
      "attn_dropout | Expected: 0\n",
      "attn_dropout | True:     0\n",
      "resid_dropout | Expected: 0\n",
      "resid_dropout | True:     0\n",
      "attn | Expected: 10246400\n",
      "attn | True:     10246400\n"
     ]
    }
   ],
   "source": [
    "expected_c_attn = E * (3 * E) + (3 * E)\n",
    "expected_c_proj = E * E + E\n",
    "expected_attn_dropout = 0\n",
    "expected_resid_dropout = 0\n",
    "expected_attn = expected_c_attn + expected_c_proj + expected_attn_dropout + expected_resid_dropout\n",
    "print(f\"c_attn | Expected: {expected_c_attn}\")\n",
    "print(f\"c_attn | True:     {count_params(model._modules['h'][0].attn.c_attn)}\")\n",
    "print(f\"c_proj | Expected: {expected_c_proj}\")\n",
    "print(f\"c_proj | True:     {count_params(model._modules['h'][0].attn.c_proj)}\")\n",
    "print(f\"attn_dropout | Expected: {expected_attn_dropout}\")\n",
    "print(f\"attn_dropout | True:     {count_params(model._modules['h'][0].attn.attn_dropout)}\")\n",
    "print(f\"resid_dropout | Expected: {expected_resid_dropout}\")\n",
    "print(f\"resid_dropout | True:     {count_params(model._modules['h'][0].attn.resid_dropout)}\")\n",
    "print(f\"attn | Expected: {expected_attn}\")\n",
    "print(f\"attn | True:     {count_params(model._modules['h'][0].attn)}\")"
   ]
  },
  {
   "cell_type": "code",
   "execution_count": 39,
   "id": "43991624",
   "metadata": {},
   "outputs": [
    {
     "name": "stdout",
     "output_type": "stream",
     "text": [
      "ln_2 | Expected: 3200\n",
      "ln_2 | True:     3200\n"
     ]
    }
   ],
   "source": [
    "expected_ln_2 = 2 * E\n",
    "print(f\"ln_2 | Expected: {expected_ln_2}\")\n",
    "print(f\"ln_2 | True:     {count_params(model._modules['h'][0].ln_2)}\")"
   ]
  },
  {
   "cell_type": "code",
   "execution_count": 40,
   "id": "146604ef",
   "metadata": {},
   "outputs": [
    {
     "name": "stdout",
     "output_type": "stream",
     "text": [
      "c_attn | Expected: 7684800\n",
      "c_attn | True:     7684800\n",
      "c_proj | Expected: 2561600\n",
      "c_proj | True:     2561600\n",
      "attn_dropout | Expected: 0\n",
      "attn_dropout | True:     0\n",
      "resid_dropout | Expected: 0\n",
      "resid_dropout | True:     0\n",
      "attn | Expected: 10246400\n",
      "attn | True:     10246400\n"
     ]
    }
   ],
   "source": [
    "expected_c_attn = E * (3 * E) + (3 * E)\n",
    "expected_c_proj = E * E + E\n",
    "expected_attn_dropout = 0\n",
    "expected_resid_dropout = 0\n",
    "expected_attn = expected_c_attn + expected_c_proj + expected_attn_dropout + expected_resid_dropout\n",
    "print(f\"c_attn | Expected: {expected_c_attn}\")\n",
    "print(f\"c_attn | True:     {count_params(model._modules['h'][0].attn.c_attn)}\")\n",
    "print(f\"c_proj | Expected: {expected_c_proj}\")\n",
    "print(f\"c_proj | True:     {count_params(model._modules['h'][0].attn.c_proj)}\")\n",
    "print(f\"attn_dropout | Expected: {expected_attn_dropout}\")\n",
    "print(f\"attn_dropout | True:     {count_params(model._modules['h'][0].attn.attn_dropout)}\")\n",
    "print(f\"resid_dropout | Expected: {expected_resid_dropout}\")\n",
    "print(f\"resid_dropout | True:     {count_params(model._modules['h'][0].attn.resid_dropout)}\")\n",
    "print(f\"attn | Expected: {expected_attn}\")\n",
    "print(f\"attn | True:     {count_params(model._modules['h'][0].attn)}\")"
   ]
  },
  {
   "cell_type": "code",
   "execution_count": 41,
   "id": "4502464a",
   "metadata": {},
   "outputs": [
    {
     "name": "stdout",
     "output_type": "stream",
     "text": [
      "ln_2 | Expected: 3200\n",
      "ln_2 | True:     3200\n"
     ]
    }
   ],
   "source": [
    "expected_ln_2 = 2 * E\n",
    "print(f\"ln_2 | Expected: {expected_ln_2}\")\n",
    "print(f\"ln_2 | True:     {count_params(model._modules['h'][0].ln_2)}\")"
   ]
  },
  {
   "cell_type": "code",
   "execution_count": 42,
   "id": "e0e72a35",
   "metadata": {},
   "outputs": [
    {
     "name": "stdout",
     "output_type": "stream",
     "text": [
      "c_fc | Expected: 10246400\n",
      "c_fc | True:     10246400\n",
      "c_proj | Expected: 10241600\n",
      "c_proj | True:     10241600\n",
      "act | Expected: 0\n",
      "act | True:     0\n",
      "dropout | Expected: 0\n",
      "dropout | True:     0\n",
      "mlp | Expected: 20488000\n",
      "mlp | True:     20488000\n"
     ]
    }
   ],
   "source": [
    "H: int = 4 * E\n",
    "expected_c_fc = E * H + H\n",
    "expected_c_proj = H * E + E\n",
    "expected_act = 0\n",
    "expected_dropout = 0\n",
    "expected_mlp = expected_c_fc + expected_c_proj + expected_act + expected_dropout\n",
    "print(f\"c_fc | Expected: {expected_c_fc}\")\n",
    "print(f\"c_fc | True:     {count_params(model._modules['h'][0].mlp.c_fc)}\")\n",
    "print(f\"c_proj | Expected: {expected_c_proj}\")\n",
    "print(f\"c_proj | True:     {count_params(model._modules['h'][0].mlp.c_proj)}\")\n",
    "print(f\"act | Expected: {expected_act}\")\n",
    "print(f\"act | True:     {count_params(model._modules['h'][0].mlp.act)}\")\n",
    "print(f\"dropout | Expected: {expected_dropout}\")\n",
    "print(f\"dropout | True:     {count_params(model._modules['h'][0].mlp.dropout)}\")\n",
    "print(f\"mlp | Expected: {expected_mlp}\")\n",
    "print(f\"mlp | True:     {count_params(model._modules['h'][0].mlp)}\")"
   ]
  },
  {
   "cell_type": "markdown",
   "id": "9a76b0e3",
   "metadata": {},
   "source": [
    "### Last Layer"
   ]
  },
  {
   "cell_type": "code",
   "execution_count": 43,
   "id": "e4f419fe",
   "metadata": {},
   "outputs": [
    {
     "name": "stdout",
     "output_type": "stream",
     "text": [
      "ln_f | Expected: 3200\n",
      "ln_f | True:     3200\n"
     ]
    }
   ],
   "source": [
    "expected_ln_f = 2 * E\n",
    "print(f\"ln_f | Expected: {expected_ln_f}\")\n",
    "print(f\"ln_f | True:     {count_params(model._modules['ln_f'])}\")"
   ]
  },
  {
   "cell_type": "markdown",
   "id": "f51c7ae3",
   "metadata": {},
   "source": [
    "### Total count"
   ]
  },
  {
   "cell_type": "code",
   "execution_count": 44,
   "id": "d80843d9",
   "metadata": {},
   "outputs": [
    {
     "name": "stdout",
     "output_type": "stream",
     "text": [
      "gpt2 | Expected: 1557611200\n",
      "gpt2 | True:     1557611200\n"
     ]
    }
   ],
   "source": [
    "L: int = model.config.n_layer\n",
    "expected_gpt2: int = E * (V + P) + L * (12 * E * E + 13 * E) + (2 * E)\n",
    "print(f\"gpt2 | Expected: {expected_gpt2}\")\n",
    "print(f\"gpt2 | True:     {count_params(model)}\")"
   ]
  }
 ],
 "metadata": {
  "kernelspec": {
   "display_name": "myEnv (3.11.9)",
   "language": "python",
   "name": "python3"
  },
  "language_info": {
   "codemirror_mode": {
    "name": "ipython",
    "version": 3
   },
   "file_extension": ".py",
   "mimetype": "text/x-python",
   "name": "python",
   "nbconvert_exporter": "python",
   "pygments_lexer": "ipython3",
   "version": "3.11.9"
  }
 },
 "nbformat": 4,
 "nbformat_minor": 5
}
